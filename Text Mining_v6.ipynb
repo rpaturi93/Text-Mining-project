{
 "cells": [
  {
   "cell_type": "code",
   "execution_count": 4,
   "metadata": {},
   "outputs": [],
   "source": [
    "#import necessary packages\n",
    "\n",
    "import pandas as pd\n",
    "import matplotlib.pyplot as plt\n",
    "%matplotlib inline  \n",
    "import nltk\n",
    "from nltk import word_tokenize, sent_tokenize\n",
    "from nltk.corpus import stopwords\n",
    "from nltk.stem import LancasterStemmer, WordNetLemmatizer, PorterStemmer\n",
    "#import wordcloud\n",
    "from wordcloud import WordCloud, STOPWORDS\n",
    "from textblob import TextBlob\n",
    "import numpy as np\n",
    "from vaderSentiment.vaderSentiment import SentimentIntensityAnalyzer\n",
    "from textblob import TextBlob\n",
    "from sklearn.metrics import mean_squared_error,r2_score"
   ]
  },
  {
   "cell_type": "code",
   "execution_count": 5,
   "metadata": {},
   "outputs": [
    {
     "name": "stderr",
     "output_type": "stream",
     "text": [
      "[nltk_data] Downloading package stopwords to\n",
      "[nltk_data]     C:\\Users\\vkodati\\AppData\\Roaming\\nltk_data...\n",
      "[nltk_data]   Package stopwords is already up-to-date!\n"
     ]
    },
    {
     "data": {
      "text/plain": [
       "True"
      ]
     },
     "execution_count": 5,
     "metadata": {},
     "output_type": "execute_result"
    }
   ],
   "source": [
    "import nltk\n",
    "nltk.download('stopwords')"
   ]
  },
  {
   "cell_type": "code",
   "execution_count": 6,
   "metadata": {},
   "outputs": [],
   "source": [
    "# Importing input files\n",
    "\n",
    "dataframe = pd.read_csv('1429_1.csv')\n",
    "\n",
    "Amz_reviews_dataframe=dataframe[['name','reviews.date','reviews.text']]\n",
    "\n",
    "Stock_Price=pd.read_csv('StockPrice_Vix_2014_2017.csv')"
   ]
  },
  {
   "cell_type": "code",
   "execution_count": 7,
   "metadata": {},
   "outputs": [
    {
     "data": {
      "text/html": [
       "<div>\n",
       "<style scoped>\n",
       "    .dataframe tbody tr th:only-of-type {\n",
       "        vertical-align: middle;\n",
       "    }\n",
       "\n",
       "    .dataframe tbody tr th {\n",
       "        vertical-align: top;\n",
       "    }\n",
       "\n",
       "    .dataframe thead th {\n",
       "        text-align: right;\n",
       "    }\n",
       "</style>\n",
       "<table border=\"1\" class=\"dataframe\">\n",
       "  <thead>\n",
       "    <tr style=\"text-align: right;\">\n",
       "      <th></th>\n",
       "      <th>name</th>\n",
       "      <th>reviews.date</th>\n",
       "      <th>reviews.text</th>\n",
       "    </tr>\n",
       "  </thead>\n",
       "  <tbody>\n",
       "    <tr>\n",
       "      <td>Total</td>\n",
       "      <td>6760.000000</td>\n",
       "      <td>39.000000</td>\n",
       "      <td>1.000000</td>\n",
       "    </tr>\n",
       "    <tr>\n",
       "      <td>Percentage</td>\n",
       "      <td>19.503751</td>\n",
       "      <td>0.112522</td>\n",
       "      <td>0.002885</td>\n",
       "    </tr>\n",
       "  </tbody>\n",
       "</table>\n",
       "</div>"
      ],
      "text/plain": [
       "                   name  reviews.date  reviews.text\n",
       "Total       6760.000000     39.000000      1.000000\n",
       "Percentage    19.503751      0.112522      0.002885"
      ]
     },
     "execution_count": 7,
     "metadata": {},
     "output_type": "execute_result"
    }
   ],
   "source": [
    "#Find the total null values in each column\n",
    "total = Amz_reviews_dataframe.isnull().sum().sort_values(ascending = False)\n",
    "null_percentage = (Amz_reviews_dataframe.isnull().sum() / Amz_reviews_dataframe.isnull().count() * 100).sort_values(ascending = False)\n",
    "pd.concat([total, null_percentage], axis=1, keys=['Total', 'Percentage']).transpose()"
   ]
  },
  {
   "cell_type": "code",
   "execution_count": 8,
   "metadata": {},
   "outputs": [],
   "source": [
    "##remove null values from columns\n",
    "\n",
    "Amz_reviews_dataframe\n",
    "Amz_reviews_dataframe = Amz_reviews_dataframe.dropna(axis=0, subset=['name'])\n",
    "Amz_reviews_dataframe = Amz_reviews_dataframe.dropna(axis=0, subset=['reviews.date'])\n",
    "Amz_reviews_dataframe = Amz_reviews_dataframe.dropna(axis=0, subset=['reviews.text'])"
   ]
  },
  {
   "cell_type": "code",
   "execution_count": 9,
   "metadata": {},
   "outputs": [
    {
     "data": {
      "text/html": [
       "<div>\n",
       "<style scoped>\n",
       "    .dataframe tbody tr th:only-of-type {\n",
       "        vertical-align: middle;\n",
       "    }\n",
       "\n",
       "    .dataframe tbody tr th {\n",
       "        vertical-align: top;\n",
       "    }\n",
       "\n",
       "    .dataframe thead th {\n",
       "        text-align: right;\n",
       "    }\n",
       "</style>\n",
       "<table border=\"1\" class=\"dataframe\">\n",
       "  <thead>\n",
       "    <tr style=\"text-align: right;\">\n",
       "      <th></th>\n",
       "      <th>reviews.text</th>\n",
       "      <th>reviews.date</th>\n",
       "      <th>name</th>\n",
       "    </tr>\n",
       "  </thead>\n",
       "  <tbody>\n",
       "    <tr>\n",
       "      <td>Total</td>\n",
       "      <td>0.0</td>\n",
       "      <td>0.0</td>\n",
       "      <td>0.0</td>\n",
       "    </tr>\n",
       "    <tr>\n",
       "      <td>Percentage</td>\n",
       "      <td>0.0</td>\n",
       "      <td>0.0</td>\n",
       "      <td>0.0</td>\n",
       "    </tr>\n",
       "  </tbody>\n",
       "</table>\n",
       "</div>"
      ],
      "text/plain": [
       "            reviews.text  reviews.date  name\n",
       "Total                0.0           0.0   0.0\n",
       "Percentage           0.0           0.0   0.0"
      ]
     },
     "execution_count": 9,
     "metadata": {},
     "output_type": "execute_result"
    }
   ],
   "source": [
    "#check for cleanliness of data\n",
    "\n",
    "total = Amz_reviews_dataframe.isnull().sum().sort_values(ascending = False)\n",
    "null_percentage = (Amz_reviews_dataframe.isnull().sum() / Amz_reviews_dataframe.isnull().count() * 100).sort_values(ascending = False)\n",
    "pd.concat([total, null_percentage], axis=1, keys=['Total', 'Percentage']).transpose()"
   ]
  },
  {
   "cell_type": "code",
   "execution_count": 10,
   "metadata": {},
   "outputs": [],
   "source": [
    "#extract the date part\n",
    "\n",
    "Amz_reviews_dataframe['reviews.date']=Amz_reviews_dataframe['reviews.date'].str[0:10]\n",
    "Amz_reviews_dataframe['reviews.date']=pd.to_datetime(Amz_reviews_dataframe['reviews.date'])"
   ]
  },
  {
   "cell_type": "code",
   "execution_count": 11,
   "metadata": {},
   "outputs": [
    {
     "data": {
      "text/plain": [
       "'inexpensive tablet for him to use and learn on, step up from the nabi. he was thrilled with it, learn how to skype on it already...'"
      ]
     },
     "execution_count": 11,
     "metadata": {},
     "output_type": "execute_result"
    }
   ],
   "source": [
    "## Change the reviews type to string\n",
    "Amz_reviews_dataframe['reviews.text'] = Amz_reviews_dataframe['reviews.text'].astype(str)\n",
    " \n",
    "## Lowercase all reviews\n",
    "Amz_reviews_dataframe['reviews.text'] = Amz_reviews_dataframe['reviews.text'].apply(lambda x: \" \".join(x.lower() for x in x.split()))\n",
    "Amz_reviews_dataframe['reviews.text'][2] ## to see the difference"
   ]
  },
  {
   "cell_type": "code",
   "execution_count": 12,
   "metadata": {},
   "outputs": [
    {
     "data": {
      "text/plain": [
       "'inexpensive tablet for him to use and learn on step up from the nabi he was thrilled with it learn how to skype on it already'"
      ]
     },
     "execution_count": 12,
     "metadata": {},
     "output_type": "execute_result"
    }
   ],
   "source": [
    "## remove punctuation\n",
    "Amz_reviews_dataframe['reviews.text'] = Amz_reviews_dataframe['reviews.text'].str.replace('[^\\w\\s]','')\n",
    "Amz_reviews_dataframe['reviews.text'][2]"
   ]
  },
  {
   "cell_type": "code",
   "execution_count": 13,
   "metadata": {},
   "outputs": [
    {
     "data": {
      "text/plain": [
       "'inexpensive tablet use learn step nabi thrilled learn skype already'"
      ]
     },
     "execution_count": 13,
     "metadata": {},
     "output_type": "execute_result"
    }
   ],
   "source": [
    "## remove stopwords\n",
    "stop = stopwords.words('english')\n",
    "Amz_reviews_dataframe['reviews.text'] = Amz_reviews_dataframe['reviews.text'].apply(lambda x: \" \".join(x for x in x.split() if x not in stop))\n",
    "Amz_reviews_dataframe['reviews.text'][2]"
   ]
  },
  {
   "cell_type": "code",
   "execution_count": 14,
   "metadata": {},
   "outputs": [
    {
     "data": {
      "text/plain": [
       "'inexpens tablet use learn step nabi thrill learn skype alreadi'"
      ]
     },
     "execution_count": 14,
     "metadata": {},
     "output_type": "execute_result"
    }
   ],
   "source": [
    "##stemming\n",
    "st = PorterStemmer()\n",
    "Amz_reviews_dataframe['reviews.text'] = Amz_reviews_dataframe['reviews.text'].apply(lambda x: \" \".join([st.stem(word) for word in x.split()]))\n",
    "Amz_reviews_dataframe['reviews.text'][2]"
   ]
  },
  {
   "cell_type": "code",
   "execution_count": 15,
   "metadata": {},
   "outputs": [],
   "source": [
    "#functions to calculate sentiment of comments on each record\n",
    "\n",
    "analyzer=SentimentIntensityAnalyzer()\n",
    "\n",
    "def sentiment_score(x):\n",
    "    return analyzer.polarity_scores(x)   \n",
    "\n",
    "def sentiment(x):\n",
    "    \n",
    "    lists = list(x.split(\" \"))  \n",
    "    count_pos=0\n",
    "    count_neg=0\n",
    "    \n",
    "    for i in lists:\n",
    "        scores=analyzer.polarity_scores(i)\n",
    "        if scores['compound'] >= 0.05: \n",
    "            count_pos+=1\n",
    "        elif scores['compound'] <= - 0.05: \n",
    "            count_neg+=1\n",
    "    if count_pos>count_neg:\n",
    "        return 1\n",
    "    elif count_neg>count_pos:\n",
    "        return 0\n",
    "    else:\n",
    "        return 0.5\n",
    "    \n",
    "def blob_sentiment(x):\n",
    "    \n",
    "    blob=TextBlob(x.strip('\\n'))\n",
    "    if blob.sentiment.polarity>0: \n",
    "        return 1\n",
    "    elif blob.sentiment.polarity<=0:\n",
    "        return 0\n",
    "    \n",
    "Amz_reviews_dataframe['sentiment_score'] = Amz_reviews_dataframe['reviews.text'].apply(sentiment_score)\n",
    "Amz_reviews_dataframe['sentiment'] = Amz_reviews_dataframe['reviews.text'].apply(sentiment)\n",
    "Amz_reviews_dataframe['blob_sentiment'] = Amz_reviews_dataframe['reviews.text'].apply(blob_sentiment)"
   ]
  },
  {
   "cell_type": "code",
   "execution_count": 16,
   "metadata": {
    "scrolled": true
   },
   "outputs": [
    {
     "data": {
      "text/html": [
       "<div>\n",
       "<style scoped>\n",
       "    .dataframe tbody tr th:only-of-type {\n",
       "        vertical-align: middle;\n",
       "    }\n",
       "\n",
       "    .dataframe tbody tr th {\n",
       "        vertical-align: top;\n",
       "    }\n",
       "\n",
       "    .dataframe thead th {\n",
       "        text-align: right;\n",
       "    }\n",
       "</style>\n",
       "<table border=\"1\" class=\"dataframe\">\n",
       "  <thead>\n",
       "    <tr style=\"text-align: right;\">\n",
       "      <th></th>\n",
       "      <th>name</th>\n",
       "      <th>reviews.date</th>\n",
       "      <th>reviews.text</th>\n",
       "      <th>sentiment_score</th>\n",
       "      <th>sentiment</th>\n",
       "      <th>blob_sentiment</th>\n",
       "    </tr>\n",
       "  </thead>\n",
       "  <tbody>\n",
       "    <tr>\n",
       "      <td>0</td>\n",
       "      <td>All-New Fire HD 8 Tablet</td>\n",
       "      <td>2017-01-13</td>\n",
       "      <td>product far disappoint children love use like ...</td>\n",
       "      <td>{'neg': 0.139, 'neu': 0.515, 'pos': 0.345, 'co...</td>\n",
       "      <td>1.0</td>\n",
       "      <td>1</td>\n",
       "    </tr>\n",
       "    <tr>\n",
       "      <td>1</td>\n",
       "      <td>All-New Fire HD 8 Tablet</td>\n",
       "      <td>2017-01-13</td>\n",
       "      <td>great beginn experienc person bought gift love</td>\n",
       "      <td>{'neg': 0.0, 'neu': 0.263, 'pos': 0.737, 'comp...</td>\n",
       "      <td>1.0</td>\n",
       "      <td>1</td>\n",
       "    </tr>\n",
       "    <tr>\n",
       "      <td>2</td>\n",
       "      <td>All-New Fire HD 8 Tablet</td>\n",
       "      <td>2017-01-13</td>\n",
       "      <td>inexpens tablet use learn step nabi thrill lea...</td>\n",
       "      <td>{'neg': 0.0, 'neu': 0.783, 'pos': 0.217, 'comp...</td>\n",
       "      <td>1.0</td>\n",
       "      <td>0</td>\n",
       "    </tr>\n",
       "    <tr>\n",
       "      <td>3</td>\n",
       "      <td>All-New Fire HD 8 Tablet</td>\n",
       "      <td>2017-01-13</td>\n",
       "      <td>ive fire hd 8 two week love tablet great value...</td>\n",
       "      <td>{'neg': 0.058, 'neu': 0.565, 'pos': 0.377, 'co...</td>\n",
       "      <td>1.0</td>\n",
       "      <td>1</td>\n",
       "    </tr>\n",
       "    <tr>\n",
       "      <td>4</td>\n",
       "      <td>All-New Fire HD 8 Tablet</td>\n",
       "      <td>2017-01-12</td>\n",
       "      <td>bought grand daughter come visit set user ente...</td>\n",
       "      <td>{'neg': 0.0, 'neu': 0.753, 'pos': 0.247, 'comp...</td>\n",
       "      <td>1.0</td>\n",
       "      <td>1</td>\n",
       "    </tr>\n",
       "    <tr>\n",
       "      <td>...</td>\n",
       "      <td>...</td>\n",
       "      <td>...</td>\n",
       "      <td>...</td>\n",
       "      <td>...</td>\n",
       "      <td>...</td>\n",
       "      <td>...</td>\n",
       "    </tr>\n",
       "    <tr>\n",
       "      <td>27895</td>\n",
       "      <td>New Amazon Kindle Fire Hd 9w Powerfast Adapter...</td>\n",
       "      <td>2016-08-16</td>\n",
       "      <td>new favorit devic perfect lot un useon featur ...</td>\n",
       "      <td>{'neg': 0.0, 'neu': 0.755, 'pos': 0.245, 'comp...</td>\n",
       "      <td>1.0</td>\n",
       "      <td>1</td>\n",
       "    </tr>\n",
       "    <tr>\n",
       "      <td>27896</td>\n",
       "      <td>New Amazon Kindle Fire Hd 9w Powerfast Adapter...</td>\n",
       "      <td>2016-08-16</td>\n",
       "      <td>got basic experi straight box realli impress n...</td>\n",
       "      <td>{'neg': 0.0, 'neu': 0.738, 'pos': 0.262, 'comp...</td>\n",
       "      <td>1.0</td>\n",
       "      <td>1</td>\n",
       "    </tr>\n",
       "    <tr>\n",
       "      <td>27897</td>\n",
       "      <td>New Amazon Kindle Fire Hd 9w Powerfast Adapter...</td>\n",
       "      <td>2016-08-15</td>\n",
       "      <td>good product basic bad buy specif light contro...</td>\n",
       "      <td>{'neg': 0.121, 'neu': 0.718, 'pos': 0.161, 'co...</td>\n",
       "      <td>1.0</td>\n",
       "      <td>1</td>\n",
       "    </tr>\n",
       "    <tr>\n",
       "      <td>27898</td>\n",
       "      <td>New Amazon Kindle Fire Hd 9w Powerfast Adapter...</td>\n",
       "      <td>2016-08-14</td>\n",
       "      <td>great connect home peopl use buy plan make eve...</td>\n",
       "      <td>{'neg': 0.0, 'neu': 0.773, 'pos': 0.227, 'comp...</td>\n",
       "      <td>1.0</td>\n",
       "      <td>1</td>\n",
       "    </tr>\n",
       "    <tr>\n",
       "      <td>27899</td>\n",
       "      <td>New Amazon Kindle Fire Hd 9w Powerfast Adapter...</td>\n",
       "      <td>2016-08-14</td>\n",
       "      <td>cool product amazon cool job great audio quali...</td>\n",
       "      <td>{'neg': 0.0, 'neu': 0.352, 'pos': 0.648, 'comp...</td>\n",
       "      <td>1.0</td>\n",
       "      <td>1</td>\n",
       "    </tr>\n",
       "  </tbody>\n",
       "</table>\n",
       "<p>27872 rows × 6 columns</p>\n",
       "</div>"
      ],
      "text/plain": [
       "                                                    name reviews.date  \\\n",
       "0                               All-New Fire HD 8 Tablet   2017-01-13   \n",
       "1                               All-New Fire HD 8 Tablet   2017-01-13   \n",
       "2                               All-New Fire HD 8 Tablet   2017-01-13   \n",
       "3                               All-New Fire HD 8 Tablet   2017-01-13   \n",
       "4                               All-New Fire HD 8 Tablet   2017-01-12   \n",
       "...                                                  ...          ...   \n",
       "27895  New Amazon Kindle Fire Hd 9w Powerfast Adapter...   2016-08-16   \n",
       "27896  New Amazon Kindle Fire Hd 9w Powerfast Adapter...   2016-08-16   \n",
       "27897  New Amazon Kindle Fire Hd 9w Powerfast Adapter...   2016-08-15   \n",
       "27898  New Amazon Kindle Fire Hd 9w Powerfast Adapter...   2016-08-14   \n",
       "27899  New Amazon Kindle Fire Hd 9w Powerfast Adapter...   2016-08-14   \n",
       "\n",
       "                                            reviews.text  \\\n",
       "0      product far disappoint children love use like ...   \n",
       "1         great beginn experienc person bought gift love   \n",
       "2      inexpens tablet use learn step nabi thrill lea...   \n",
       "3      ive fire hd 8 two week love tablet great value...   \n",
       "4      bought grand daughter come visit set user ente...   \n",
       "...                                                  ...   \n",
       "27895  new favorit devic perfect lot un useon featur ...   \n",
       "27896  got basic experi straight box realli impress n...   \n",
       "27897  good product basic bad buy specif light contro...   \n",
       "27898  great connect home peopl use buy plan make eve...   \n",
       "27899  cool product amazon cool job great audio quali...   \n",
       "\n",
       "                                         sentiment_score  sentiment  \\\n",
       "0      {'neg': 0.139, 'neu': 0.515, 'pos': 0.345, 'co...        1.0   \n",
       "1      {'neg': 0.0, 'neu': 0.263, 'pos': 0.737, 'comp...        1.0   \n",
       "2      {'neg': 0.0, 'neu': 0.783, 'pos': 0.217, 'comp...        1.0   \n",
       "3      {'neg': 0.058, 'neu': 0.565, 'pos': 0.377, 'co...        1.0   \n",
       "4      {'neg': 0.0, 'neu': 0.753, 'pos': 0.247, 'comp...        1.0   \n",
       "...                                                  ...        ...   \n",
       "27895  {'neg': 0.0, 'neu': 0.755, 'pos': 0.245, 'comp...        1.0   \n",
       "27896  {'neg': 0.0, 'neu': 0.738, 'pos': 0.262, 'comp...        1.0   \n",
       "27897  {'neg': 0.121, 'neu': 0.718, 'pos': 0.161, 'co...        1.0   \n",
       "27898  {'neg': 0.0, 'neu': 0.773, 'pos': 0.227, 'comp...        1.0   \n",
       "27899  {'neg': 0.0, 'neu': 0.352, 'pos': 0.648, 'comp...        1.0   \n",
       "\n",
       "       blob_sentiment  \n",
       "0                   1  \n",
       "1                   1  \n",
       "2                   0  \n",
       "3                   1  \n",
       "4                   1  \n",
       "...               ...  \n",
       "27895               1  \n",
       "27896               1  \n",
       "27897               1  \n",
       "27898               1  \n",
       "27899               1  \n",
       "\n",
       "[27872 rows x 6 columns]"
      ]
     },
     "execution_count": 16,
     "metadata": {},
     "output_type": "execute_result"
    }
   ],
   "source": [
    "Amz_reviews_dataframe"
   ]
  },
  {
   "cell_type": "code",
   "execution_count": 17,
   "metadata": {},
   "outputs": [],
   "source": [
    "#combining the comments on a same day as 1\n",
    "\n",
    "agg1=pd.DataFrame()\n",
    "agg1['reviews.date']=Amz_reviews_dataframe['reviews.date']\n",
    "agg1['reviews.text'] = Amz_reviews_dataframe[['reviews.date','reviews.text']].groupby(['reviews.date'])['reviews.text'].transform(lambda x: ','.join(x))\n",
    "agg1=agg1[['reviews.text','reviews.date']].drop_duplicates()\n"
   ]
  },
  {
   "cell_type": "code",
   "execution_count": 34,
   "metadata": {},
   "outputs": [],
   "source": [
    "#functions to calculate positive and negative word count percentage of combined comments in a day\n",
    "analyzer=SentimentIntensityAnalyzer()\n",
    "positive_words_list=[]\n",
    "negative_words_list=[]\n",
    "def positive_words(x):      \n",
    "    lists = list(x.split(\" \"))  \n",
    "    count_pos=0\n",
    "    total=len(lists)\n",
    "    \n",
    "    for i in lists:\n",
    "        scores=analyzer.polarity_scores(i)\n",
    "        if scores['compound'] >= 0.05: \n",
    "            count_pos+=1\n",
    "            positive_words_list.append(i)\n",
    "    return count_pos/total\n",
    "\n",
    "def negative_words(x):      \n",
    "    lists = list(x.split(\" \"))  \n",
    "    count_neg=0\n",
    "    total=len(lists)\n",
    "    \n",
    "    for i in lists:\n",
    "        scores=analyzer.polarity_scores(i)\n",
    "        if scores['compound'] < 0.05: \n",
    "            count_neg+=1\n",
    "            negative_words_list.append(i)\n",
    "    return count_neg/total\n",
    "\n",
    "    \n",
    "agg1['% positive words'] = Amz_reviews_dataframe['reviews.text'].apply(positive_words)\n",
    "agg1['% negative words'] = Amz_reviews_dataframe['reviews.text'].apply(negative_words)"
   ]
  },
  {
   "cell_type": "code",
   "execution_count": 44,
   "metadata": {},
   "outputs": [],
   "source": [
    "unique_positive_words_list=set(positive_words_list)\n",
    "unique_positive_words_list=list(unique_positive_words_list)"
   ]
  },
  {
   "cell_type": "code",
   "execution_count": 47,
   "metadata": {},
   "outputs": [],
   "source": [
    "unique_negative_words_list=set(negative_words_list)\n",
    "unique_negative_words_list=list(unique_negative_words_list)"
   ]
  },
  {
   "cell_type": "code",
   "execution_count": 45,
   "metadata": {},
   "outputs": [
    {
     "data": {
      "image/png": "[encoded data removed]",
      "text/plain": [
       "<Figure size 432x288 with 1 Axes>"
      ]
     },
     "metadata": {
      "needs_background": "light"
     },
     "output_type": "display_data"
    }
   ],
   "source": [
    "wordcloud = WordCloud(max_font_size=60).generate(' '.join(unique_positive_words_list[:]))\n",
    "plt.imshow(wordcloud,interpolation=\"bilinear\")\n",
    "plt.show()"
   ]
  },
  {
   "cell_type": "code",
   "execution_count": 48,
   "metadata": {},
   "outputs": [
    {
     "data": {
      "image/png": "[encoded data removed]",
      "text/plain": [
       "<Figure size 432x288 with 1 Axes>"
      ]
     },
     "metadata": {
      "needs_background": "light"
     },
     "output_type": "display_data"
    }
   ],
   "source": [
    "wordcloud = WordCloud(max_font_size=60).generate(' '.join(unique_negative_words_list[:]))\n",
    "plt.imshow(wordcloud,interpolation=\"bilinear\")\n",
    "plt.show()"
   ]
  },
  {
   "cell_type": "code",
   "execution_count": 20,
   "metadata": {},
   "outputs": [
    {
     "data": {
      "text/html": [
       "<div>\n",
       "<style scoped>\n",
       "    .dataframe tbody tr th:only-of-type {\n",
       "        vertical-align: middle;\n",
       "    }\n",
       "\n",
       "    .dataframe tbody tr th {\n",
       "        vertical-align: top;\n",
       "    }\n",
       "\n",
       "    .dataframe thead th {\n",
       "        text-align: right;\n",
       "    }\n",
       "</style>\n",
       "<table border=\"1\" class=\"dataframe\">\n",
       "  <thead>\n",
       "    <tr style=\"text-align: right;\">\n",
       "      <th></th>\n",
       "      <th>Date</th>\n",
       "      <th>Stock Adj Close</th>\n",
       "      <th>VIX Close</th>\n",
       "    </tr>\n",
       "  </thead>\n",
       "  <tbody>\n",
       "    <tr>\n",
       "      <td>0</td>\n",
       "      <td>2014-01-02</td>\n",
       "      <td>397.970001</td>\n",
       "      <td>14.23</td>\n",
       "    </tr>\n",
       "    <tr>\n",
       "      <td>1</td>\n",
       "      <td>2014-01-03</td>\n",
       "      <td>396.440002</td>\n",
       "      <td>13.76</td>\n",
       "    </tr>\n",
       "    <tr>\n",
       "      <td>2</td>\n",
       "      <td>2014-01-06</td>\n",
       "      <td>393.630005</td>\n",
       "      <td>13.55</td>\n",
       "    </tr>\n",
       "    <tr>\n",
       "      <td>3</td>\n",
       "      <td>2014-01-07</td>\n",
       "      <td>398.029999</td>\n",
       "      <td>12.92</td>\n",
       "    </tr>\n",
       "    <tr>\n",
       "      <td>4</td>\n",
       "      <td>2014-01-08</td>\n",
       "      <td>401.920013</td>\n",
       "      <td>12.87</td>\n",
       "    </tr>\n",
       "    <tr>\n",
       "      <td>...</td>\n",
       "      <td>...</td>\n",
       "      <td>...</td>\n",
       "      <td>...</td>\n",
       "    </tr>\n",
       "    <tr>\n",
       "      <td>1253</td>\n",
       "      <td>2018-12-24</td>\n",
       "      <td>1343.960000</td>\n",
       "      <td>36.07</td>\n",
       "    </tr>\n",
       "    <tr>\n",
       "      <td>1254</td>\n",
       "      <td>2018-12-26</td>\n",
       "      <td>1470.900000</td>\n",
       "      <td>30.41</td>\n",
       "    </tr>\n",
       "    <tr>\n",
       "      <td>1255</td>\n",
       "      <td>2018-12-27</td>\n",
       "      <td>1461.640000</td>\n",
       "      <td>29.96</td>\n",
       "    </tr>\n",
       "    <tr>\n",
       "      <td>1256</td>\n",
       "      <td>2018-12-28</td>\n",
       "      <td>1478.020000</td>\n",
       "      <td>28.34</td>\n",
       "    </tr>\n",
       "    <tr>\n",
       "      <td>1257</td>\n",
       "      <td>2018-12-31</td>\n",
       "      <td>1501.970000</td>\n",
       "      <td>25.42</td>\n",
       "    </tr>\n",
       "  </tbody>\n",
       "</table>\n",
       "<p>1258 rows × 3 columns</p>\n",
       "</div>"
      ],
      "text/plain": [
       "           Date  Stock Adj Close  VIX Close\n",
       "0    2014-01-02       397.970001      14.23\n",
       "1    2014-01-03       396.440002      13.76\n",
       "2    2014-01-06       393.630005      13.55\n",
       "3    2014-01-07       398.029999      12.92\n",
       "4    2014-01-08       401.920013      12.87\n",
       "...         ...              ...        ...\n",
       "1253 2018-12-24      1343.960000      36.07\n",
       "1254 2018-12-26      1470.900000      30.41\n",
       "1255 2018-12-27      1461.640000      29.96\n",
       "1256 2018-12-28      1478.020000      28.34\n",
       "1257 2018-12-31      1501.970000      25.42\n",
       "\n",
       "[1258 rows x 3 columns]"
      ]
     },
     "execution_count": 20,
     "metadata": {},
     "output_type": "execute_result"
    }
   ],
   "source": [
    "#Formatting the Date column\n",
    "Stock_Price['Date']=pd.to_datetime(Stock_Price['Date'])\n",
    "Stock_Price"
   ]
  },
  {
   "cell_type": "code",
   "execution_count": 21,
   "metadata": {},
   "outputs": [
    {
     "data": {
      "text/html": [
       "<div>\n",
       "<style scoped>\n",
       "    .dataframe tbody tr th:only-of-type {\n",
       "        vertical-align: middle;\n",
       "    }\n",
       "\n",
       "    .dataframe tbody tr th {\n",
       "        vertical-align: top;\n",
       "    }\n",
       "\n",
       "    .dataframe thead th {\n",
       "        text-align: right;\n",
       "    }\n",
       "</style>\n",
       "<table border=\"1\" class=\"dataframe\">\n",
       "  <thead>\n",
       "    <tr style=\"text-align: right;\">\n",
       "      <th></th>\n",
       "      <th>reviews.text</th>\n",
       "      <th>reviews.date</th>\n",
       "      <th>% positive words</th>\n",
       "      <th>% negative words</th>\n",
       "      <th>Date</th>\n",
       "      <th>Stock Adj Close</th>\n",
       "      <th>VIX Close</th>\n",
       "    </tr>\n",
       "  </thead>\n",
       "  <tbody>\n",
       "    <tr>\n",
       "      <td>0</td>\n",
       "      <td>product far disappoint children love use like ...</td>\n",
       "      <td>2017-01-13</td>\n",
       "      <td>0.153846</td>\n",
       "      <td>0.846154</td>\n",
       "      <td>2017-01-13</td>\n",
       "      <td>817.14</td>\n",
       "      <td>11.23</td>\n",
       "    </tr>\n",
       "    <tr>\n",
       "      <td>1</td>\n",
       "      <td>bought grand daughter come visit set user ente...</td>\n",
       "      <td>2017-01-12</td>\n",
       "      <td>0.096154</td>\n",
       "      <td>0.903846</td>\n",
       "      <td>2017-01-12</td>\n",
       "      <td>813.64</td>\n",
       "      <td>11.54</td>\n",
       "    </tr>\n",
       "    <tr>\n",
       "      <td>2</td>\n",
       "      <td>great devic read book like link borrow librari...</td>\n",
       "      <td>2017-01-23</td>\n",
       "      <td>0.111111</td>\n",
       "      <td>0.888889</td>\n",
       "      <td>2017-01-23</td>\n",
       "      <td>817.88</td>\n",
       "      <td>11.77</td>\n",
       "    </tr>\n",
       "    <tr>\n",
       "      <td>3</td>\n",
       "      <td>nice reader almost perfect wantne good bargain...</td>\n",
       "      <td>2017-01-24</td>\n",
       "      <td>0.571429</td>\n",
       "      <td>0.428571</td>\n",
       "      <td>2017-01-24</td>\n",
       "      <td>822.44</td>\n",
       "      <td>11.07</td>\n",
       "    </tr>\n",
       "    <tr>\n",
       "      <td>4</td>\n",
       "      <td>great size easi carri travel need spend time l...</td>\n",
       "      <td>2017-01-27</td>\n",
       "      <td>0.055556</td>\n",
       "      <td>0.944444</td>\n",
       "      <td>2017-01-27</td>\n",
       "      <td>835.77</td>\n",
       "      <td>10.58</td>\n",
       "    </tr>\n",
       "    <tr>\n",
       "      <td>...</td>\n",
       "      <td>...</td>\n",
       "      <td>...</td>\n",
       "      <td>...</td>\n",
       "      <td>...</td>\n",
       "      <td>...</td>\n",
       "      <td>...</td>\n",
       "      <td>...</td>\n",
       "    </tr>\n",
       "    <tr>\n",
       "      <td>683</td>\n",
       "      <td>great starter tablet kid adult alik alway grea...</td>\n",
       "      <td>2017-06-28</td>\n",
       "      <td>0.181818</td>\n",
       "      <td>0.818182</td>\n",
       "      <td>2017-06-28</td>\n",
       "      <td>990.33</td>\n",
       "      <td>10.03</td>\n",
       "    </tr>\n",
       "    <tr>\n",
       "      <td>684</td>\n",
       "      <td>love big reader enjoy fire beacus get read sur...</td>\n",
       "      <td>2017-07-05</td>\n",
       "      <td>0.166667</td>\n",
       "      <td>0.833333</td>\n",
       "      <td>2017-07-05</td>\n",
       "      <td>971.40</td>\n",
       "      <td>11.07</td>\n",
       "    </tr>\n",
       "    <tr>\n",
       "      <td>685</td>\n",
       "      <td>speaker microphon work great work great samsun...</td>\n",
       "      <td>2017-08-10</td>\n",
       "      <td>0.137931</td>\n",
       "      <td>0.862069</td>\n",
       "      <td>2017-08-10</td>\n",
       "      <td>956.92</td>\n",
       "      <td>16.04</td>\n",
       "    </tr>\n",
       "    <tr>\n",
       "      <td>686</td>\n",
       "      <td>pleas echo alexa use util chang temp via nest ...</td>\n",
       "      <td>2017-09-05</td>\n",
       "      <td>0.076923</td>\n",
       "      <td>0.923077</td>\n",
       "      <td>2017-09-05</td>\n",
       "      <td>965.27</td>\n",
       "      <td>12.23</td>\n",
       "    </tr>\n",
       "    <tr>\n",
       "      <td>687</td>\n",
       "      <td>alreadi amazon echo show love way purchas amaz...</td>\n",
       "      <td>2017-09-22</td>\n",
       "      <td>0.217391</td>\n",
       "      <td>0.782609</td>\n",
       "      <td>2017-09-22</td>\n",
       "      <td>955.10</td>\n",
       "      <td>9.59</td>\n",
       "    </tr>\n",
       "  </tbody>\n",
       "</table>\n",
       "<p>688 rows × 7 columns</p>\n",
       "</div>"
      ],
      "text/plain": [
       "                                          reviews.text reviews.date  \\\n",
       "0    product far disappoint children love use like ...   2017-01-13   \n",
       "1    bought grand daughter come visit set user ente...   2017-01-12   \n",
       "2    great devic read book like link borrow librari...   2017-01-23   \n",
       "3    nice reader almost perfect wantne good bargain...   2017-01-24   \n",
       "4    great size easi carri travel need spend time l...   2017-01-27   \n",
       "..                                                 ...          ...   \n",
       "683  great starter tablet kid adult alik alway grea...   2017-06-28   \n",
       "684  love big reader enjoy fire beacus get read sur...   2017-07-05   \n",
       "685  speaker microphon work great work great samsun...   2017-08-10   \n",
       "686  pleas echo alexa use util chang temp via nest ...   2017-09-05   \n",
       "687  alreadi amazon echo show love way purchas amaz...   2017-09-22   \n",
       "\n",
       "     % positive words  % negative words       Date  Stock Adj Close  VIX Close  \n",
       "0            0.153846          0.846154 2017-01-13           817.14      11.23  \n",
       "1            0.096154          0.903846 2017-01-12           813.64      11.54  \n",
       "2            0.111111          0.888889 2017-01-23           817.88      11.77  \n",
       "3            0.571429          0.428571 2017-01-24           822.44      11.07  \n",
       "4            0.055556          0.944444 2017-01-27           835.77      10.58  \n",
       "..                ...               ...        ...              ...        ...  \n",
       "683          0.181818          0.818182 2017-06-28           990.33      10.03  \n",
       "684          0.166667          0.833333 2017-07-05           971.40      11.07  \n",
       "685          0.137931          0.862069 2017-08-10           956.92      16.04  \n",
       "686          0.076923          0.923077 2017-09-05           965.27      12.23  \n",
       "687          0.217391          0.782609 2017-09-22           955.10       9.59  \n",
       "\n",
       "[688 rows x 7 columns]"
      ]
     },
     "execution_count": 21,
     "metadata": {},
     "output_type": "execute_result"
    }
   ],
   "source": [
    "dataset_v2=pd.merge(left=agg1,right=Stock_Price, left_on='reviews.date', right_on='Date')\n",
    "dataset_v2"
   ]
  },
  {
   "cell_type": "code",
   "execution_count": 22,
   "metadata": {},
   "outputs": [
    {
     "data": {
      "text/html": [
       "<div>\n",
       "<style scoped>\n",
       "    .dataframe tbody tr th:only-of-type {\n",
       "        vertical-align: middle;\n",
       "    }\n",
       "\n",
       "    .dataframe tbody tr th {\n",
       "        vertical-align: top;\n",
       "    }\n",
       "\n",
       "    .dataframe thead th {\n",
       "        text-align: right;\n",
       "    }\n",
       "</style>\n",
       "<table border=\"1\" class=\"dataframe\">\n",
       "  <thead>\n",
       "    <tr style=\"text-align: right;\">\n",
       "      <th></th>\n",
       "      <th>Date</th>\n",
       "      <th>% positive words</th>\n",
       "      <th>Stock Adj Close</th>\n",
       "      <th>VIX Close</th>\n",
       "    </tr>\n",
       "  </thead>\n",
       "  <tbody>\n",
       "    <tr>\n",
       "      <td>0</td>\n",
       "      <td>2017-01-13</td>\n",
       "      <td>0.153846</td>\n",
       "      <td>817.14</td>\n",
       "      <td>11.23</td>\n",
       "    </tr>\n",
       "    <tr>\n",
       "      <td>1</td>\n",
       "      <td>2017-01-12</td>\n",
       "      <td>0.096154</td>\n",
       "      <td>813.64</td>\n",
       "      <td>11.54</td>\n",
       "    </tr>\n",
       "    <tr>\n",
       "      <td>2</td>\n",
       "      <td>2017-01-23</td>\n",
       "      <td>0.111111</td>\n",
       "      <td>817.88</td>\n",
       "      <td>11.77</td>\n",
       "    </tr>\n",
       "    <tr>\n",
       "      <td>3</td>\n",
       "      <td>2017-01-24</td>\n",
       "      <td>0.571429</td>\n",
       "      <td>822.44</td>\n",
       "      <td>11.07</td>\n",
       "    </tr>\n",
       "    <tr>\n",
       "      <td>4</td>\n",
       "      <td>2017-01-27</td>\n",
       "      <td>0.055556</td>\n",
       "      <td>835.77</td>\n",
       "      <td>10.58</td>\n",
       "    </tr>\n",
       "    <tr>\n",
       "      <td>...</td>\n",
       "      <td>...</td>\n",
       "      <td>...</td>\n",
       "      <td>...</td>\n",
       "      <td>...</td>\n",
       "    </tr>\n",
       "    <tr>\n",
       "      <td>683</td>\n",
       "      <td>2017-06-28</td>\n",
       "      <td>0.181818</td>\n",
       "      <td>990.33</td>\n",
       "      <td>10.03</td>\n",
       "    </tr>\n",
       "    <tr>\n",
       "      <td>684</td>\n",
       "      <td>2017-07-05</td>\n",
       "      <td>0.166667</td>\n",
       "      <td>971.40</td>\n",
       "      <td>11.07</td>\n",
       "    </tr>\n",
       "    <tr>\n",
       "      <td>685</td>\n",
       "      <td>2017-08-10</td>\n",
       "      <td>0.137931</td>\n",
       "      <td>956.92</td>\n",
       "      <td>16.04</td>\n",
       "    </tr>\n",
       "    <tr>\n",
       "      <td>686</td>\n",
       "      <td>2017-09-05</td>\n",
       "      <td>0.076923</td>\n",
       "      <td>965.27</td>\n",
       "      <td>12.23</td>\n",
       "    </tr>\n",
       "    <tr>\n",
       "      <td>687</td>\n",
       "      <td>2017-09-22</td>\n",
       "      <td>0.217391</td>\n",
       "      <td>955.10</td>\n",
       "      <td>9.59</td>\n",
       "    </tr>\n",
       "  </tbody>\n",
       "</table>\n",
       "<p>688 rows × 4 columns</p>\n",
       "</div>"
      ],
      "text/plain": [
       "          Date  % positive words  Stock Adj Close  VIX Close\n",
       "0   2017-01-13          0.153846           817.14      11.23\n",
       "1   2017-01-12          0.096154           813.64      11.54\n",
       "2   2017-01-23          0.111111           817.88      11.77\n",
       "3   2017-01-24          0.571429           822.44      11.07\n",
       "4   2017-01-27          0.055556           835.77      10.58\n",
       "..         ...               ...              ...        ...\n",
       "683 2017-06-28          0.181818           990.33      10.03\n",
       "684 2017-07-05          0.166667           971.40      11.07\n",
       "685 2017-08-10          0.137931           956.92      16.04\n",
       "686 2017-09-05          0.076923           965.27      12.23\n",
       "687 2017-09-22          0.217391           955.10       9.59\n",
       "\n",
       "[688 rows x 4 columns]"
      ]
     },
     "execution_count": 22,
     "metadata": {},
     "output_type": "execute_result"
    }
   ],
   "source": [
    "final_dataset=dataset_v2[['Date',\"% positive words\",\"Stock Adj Close\",\"VIX Close\"]]\n",
    "final_dataset"
   ]
  },
  {
   "cell_type": "code",
   "execution_count": 23,
   "metadata": {},
   "outputs": [
    {
     "data": {
      "text/html": [
       "<div>\n",
       "<style scoped>\n",
       "    .dataframe tbody tr th:only-of-type {\n",
       "        vertical-align: middle;\n",
       "    }\n",
       "\n",
       "    .dataframe tbody tr th {\n",
       "        vertical-align: top;\n",
       "    }\n",
       "\n",
       "    .dataframe thead th {\n",
       "        text-align: right;\n",
       "    }\n",
       "</style>\n",
       "<table border=\"1\" class=\"dataframe\">\n",
       "  <thead>\n",
       "    <tr style=\"text-align: right;\">\n",
       "      <th></th>\n",
       "      <th>% positive words</th>\n",
       "      <th>Stock Adj Close</th>\n",
       "      <th>VIX Close</th>\n",
       "    </tr>\n",
       "  </thead>\n",
       "  <tbody>\n",
       "    <tr>\n",
       "      <td>% positive words</td>\n",
       "      <td>1.000000</td>\n",
       "      <td>0.182569</td>\n",
       "      <td>-0.117514</td>\n",
       "    </tr>\n",
       "    <tr>\n",
       "      <td>Stock Adj Close</td>\n",
       "      <td>0.182569</td>\n",
       "      <td>1.000000</td>\n",
       "      <td>-0.557942</td>\n",
       "    </tr>\n",
       "    <tr>\n",
       "      <td>VIX Close</td>\n",
       "      <td>-0.117514</td>\n",
       "      <td>-0.557942</td>\n",
       "      <td>1.000000</td>\n",
       "    </tr>\n",
       "  </tbody>\n",
       "</table>\n",
       "</div>"
      ],
      "text/plain": [
       "                  % positive words  Stock Adj Close  VIX Close\n",
       "% positive words          1.000000         0.182569  -0.117514\n",
       "Stock Adj Close           0.182569         1.000000  -0.557942\n",
       "VIX Close                -0.117514        -0.557942   1.000000"
      ]
     },
     "execution_count": 23,
     "metadata": {},
     "output_type": "execute_result"
    }
   ],
   "source": [
    "final_dataset.corr()"
   ]
  },
  {
   "cell_type": "code",
   "execution_count": 21,
   "metadata": {},
   "outputs": [
    {
     "data": {
      "text/plain": [
       "<matplotlib.collections.PathCollection at 0x1a49a3f6fc8>"
      ]
     },
     "execution_count": 21,
     "metadata": {},
     "output_type": "execute_result"
    },
    {
     "data": {
      "image/png": "[encoded data removed]",
      "text/plain": [
       "<Figure size 432x288 with 1 Axes>"
      ]
     },
     "metadata": {
      "needs_background": "light"
     },
     "output_type": "display_data"
    }
   ],
   "source": [
    "plt.scatter(final_dataset['% positive words'],final_dataset['Stock Adj Close'])"
   ]
  },
  {
   "cell_type": "code",
   "execution_count": 22,
   "metadata": {},
   "outputs": [
    {
     "data": {
      "text/plain": [
       "<matplotlib.collections.PathCollection at 0x1a49a3f9488>"
      ]
     },
     "execution_count": 22,
     "metadata": {},
     "output_type": "execute_result"
    },
    {
     "data": {
      "image/png": "[encoded data removed]",
      "text/plain": [
       "<Figure size 432x288 with 1 Axes>"
      ]
     },
     "metadata": {
      "needs_background": "light"
     },
     "output_type": "display_data"
    }
   ],
   "source": [
    "plt.scatter(final_dataset['% negative words'],final_dataset['Stock Adj Close'])"
   ]
  },
  {
   "cell_type": "code",
   "execution_count": 23,
   "metadata": {},
   "outputs": [],
   "source": [
    "final_dataset.to_csv(\"final_dataset.csv\")"
   ]
  },
  {
   "cell_type": "markdown",
   "metadata": {},
   "source": [
    "## Forecasting Stock Price using Linear regression "
   ]
  },
  {
   "cell_type": "code",
   "execution_count": 24,
   "metadata": {},
   "outputs": [
    {
     "name": "stderr",
     "output_type": "stream",
     "text": [
      "C:\\Users\\vkodati\\AppData\\Local\\Continuum\\anaconda3\\lib\\site-packages\\ipykernel_launcher.py:4: SettingWithCopyWarning: \n",
      "A value is trying to be set on a copy of a slice from a DataFrame.\n",
      "Try using .loc[row_indexer,col_indexer] = value instead\n",
      "\n",
      "See the caveats in the documentation: http://pandas.pydata.org/pandas-docs/stable/user_guide/indexing.html#returning-a-view-versus-a-copy\n",
      "  after removing the cwd from sys.path.\n",
      "C:\\Users\\vkodati\\AppData\\Local\\Continuum\\anaconda3\\lib\\site-packages\\ipykernel_launcher.py:5: SettingWithCopyWarning: \n",
      "A value is trying to be set on a copy of a slice from a DataFrame.\n",
      "Try using .loc[row_indexer,col_indexer] = value instead\n",
      "\n",
      "See the caveats in the documentation: http://pandas.pydata.org/pandas-docs/stable/user_guide/indexing.html#returning-a-view-versus-a-copy\n",
      "  \"\"\"\n",
      "C:\\Users\\vkodati\\AppData\\Local\\Continuum\\anaconda3\\lib\\site-packages\\ipykernel_launcher.py:6: SettingWithCopyWarning: \n",
      "A value is trying to be set on a copy of a slice from a DataFrame.\n",
      "Try using .loc[row_indexer,col_indexer] = value instead\n",
      "\n",
      "See the caveats in the documentation: http://pandas.pydata.org/pandas-docs/stable/user_guide/indexing.html#returning-a-view-versus-a-copy\n",
      "  \n",
      "C:\\Users\\vkodati\\AppData\\Local\\Continuum\\anaconda3\\lib\\site-packages\\ipykernel_launcher.py:7: SettingWithCopyWarning: \n",
      "A value is trying to be set on a copy of a slice from a DataFrame.\n",
      "Try using .loc[row_indexer,col_indexer] = value instead\n",
      "\n",
      "See the caveats in the documentation: http://pandas.pydata.org/pandas-docs/stable/user_guide/indexing.html#returning-a-view-versus-a-copy\n",
      "  import sys\n"
     ]
    },
    {
     "data": {
      "text/html": [
       "<div>\n",
       "<style scoped>\n",
       "    .dataframe tbody tr th:only-of-type {\n",
       "        vertical-align: middle;\n",
       "    }\n",
       "\n",
       "    .dataframe tbody tr th {\n",
       "        vertical-align: top;\n",
       "    }\n",
       "\n",
       "    .dataframe thead th {\n",
       "        text-align: right;\n",
       "    }\n",
       "</style>\n",
       "<table border=\"1\" class=\"dataframe\">\n",
       "  <thead>\n",
       "    <tr style=\"text-align: right;\">\n",
       "      <th></th>\n",
       "      <th>Date</th>\n",
       "      <th>% positive words</th>\n",
       "      <th>Stock Adj Close</th>\n",
       "      <th>VIX Close</th>\n",
       "      <th>Previous Month SP</th>\n",
       "      <th>2nd Previous Month SP</th>\n",
       "    </tr>\n",
       "  </thead>\n",
       "  <tbody>\n",
       "    <tr>\n",
       "      <td>0</td>\n",
       "      <td>2017-01-13</td>\n",
       "      <td>0.153846</td>\n",
       "      <td>817.14</td>\n",
       "      <td>11.23</td>\n",
       "      <td>0.000000</td>\n",
       "      <td>0.000000</td>\n",
       "    </tr>\n",
       "    <tr>\n",
       "      <td>1</td>\n",
       "      <td>2017-01-12</td>\n",
       "      <td>0.096154</td>\n",
       "      <td>813.64</td>\n",
       "      <td>11.54</td>\n",
       "      <td>817.140000</td>\n",
       "      <td>0.000000</td>\n",
       "    </tr>\n",
       "    <tr>\n",
       "      <td>2</td>\n",
       "      <td>2017-01-23</td>\n",
       "      <td>0.111111</td>\n",
       "      <td>817.88</td>\n",
       "      <td>11.77</td>\n",
       "      <td>813.640000</td>\n",
       "      <td>817.140000</td>\n",
       "    </tr>\n",
       "    <tr>\n",
       "      <td>3</td>\n",
       "      <td>2017-01-24</td>\n",
       "      <td>0.571429</td>\n",
       "      <td>822.44</td>\n",
       "      <td>11.07</td>\n",
       "      <td>817.880000</td>\n",
       "      <td>813.640000</td>\n",
       "    </tr>\n",
       "    <tr>\n",
       "      <td>4</td>\n",
       "      <td>2017-01-27</td>\n",
       "      <td>0.055556</td>\n",
       "      <td>835.77</td>\n",
       "      <td>10.58</td>\n",
       "      <td>822.440000</td>\n",
       "      <td>817.880000</td>\n",
       "    </tr>\n",
       "    <tr>\n",
       "      <td>...</td>\n",
       "      <td>...</td>\n",
       "      <td>...</td>\n",
       "      <td>...</td>\n",
       "      <td>...</td>\n",
       "      <td>...</td>\n",
       "      <td>...</td>\n",
       "    </tr>\n",
       "    <tr>\n",
       "      <td>683</td>\n",
       "      <td>2017-06-28</td>\n",
       "      <td>0.181818</td>\n",
       "      <td>990.33</td>\n",
       "      <td>10.03</td>\n",
       "      <td>437.390015</td>\n",
       "      <td>488.100006</td>\n",
       "    </tr>\n",
       "    <tr>\n",
       "      <td>684</td>\n",
       "      <td>2017-07-05</td>\n",
       "      <td>0.166667</td>\n",
       "      <td>971.40</td>\n",
       "      <td>11.07</td>\n",
       "      <td>990.330000</td>\n",
       "      <td>437.390015</td>\n",
       "    </tr>\n",
       "    <tr>\n",
       "      <td>685</td>\n",
       "      <td>2017-08-10</td>\n",
       "      <td>0.137931</td>\n",
       "      <td>956.92</td>\n",
       "      <td>16.04</td>\n",
       "      <td>971.400000</td>\n",
       "      <td>990.330000</td>\n",
       "    </tr>\n",
       "    <tr>\n",
       "      <td>686</td>\n",
       "      <td>2017-09-05</td>\n",
       "      <td>0.076923</td>\n",
       "      <td>965.27</td>\n",
       "      <td>12.23</td>\n",
       "      <td>956.920000</td>\n",
       "      <td>971.400000</td>\n",
       "    </tr>\n",
       "    <tr>\n",
       "      <td>687</td>\n",
       "      <td>2017-09-22</td>\n",
       "      <td>0.217391</td>\n",
       "      <td>955.10</td>\n",
       "      <td>9.59</td>\n",
       "      <td>965.270000</td>\n",
       "      <td>956.920000</td>\n",
       "    </tr>\n",
       "  </tbody>\n",
       "</table>\n",
       "<p>688 rows × 6 columns</p>\n",
       "</div>"
      ],
      "text/plain": [
       "          Date  % positive words  Stock Adj Close  VIX Close  \\\n",
       "0   2017-01-13          0.153846           817.14      11.23   \n",
       "1   2017-01-12          0.096154           813.64      11.54   \n",
       "2   2017-01-23          0.111111           817.88      11.77   \n",
       "3   2017-01-24          0.571429           822.44      11.07   \n",
       "4   2017-01-27          0.055556           835.77      10.58   \n",
       "..         ...               ...              ...        ...   \n",
       "683 2017-06-28          0.181818           990.33      10.03   \n",
       "684 2017-07-05          0.166667           971.40      11.07   \n",
       "685 2017-08-10          0.137931           956.92      16.04   \n",
       "686 2017-09-05          0.076923           965.27      12.23   \n",
       "687 2017-09-22          0.217391           955.10       9.59   \n",
       "\n",
       "     Previous Month SP  2nd Previous Month SP  \n",
       "0             0.000000               0.000000  \n",
       "1           817.140000               0.000000  \n",
       "2           813.640000             817.140000  \n",
       "3           817.880000             813.640000  \n",
       "4           822.440000             817.880000  \n",
       "..                 ...                    ...  \n",
       "683         437.390015             488.100006  \n",
       "684         990.330000             437.390015  \n",
       "685         971.400000             990.330000  \n",
       "686         956.920000             971.400000  \n",
       "687         965.270000             956.920000  \n",
       "\n",
       "[688 rows x 6 columns]"
      ]
     },
     "execution_count": 24,
     "metadata": {},
     "output_type": "execute_result"
    }
   ],
   "source": [
    "# Creating a copy of final dataframe, adding previous and 2nd previous stock price values to dataframe\n",
    "\n",
    "test=final_dataset\n",
    "test['Previous Month SP']=test['Stock Adj Close'].shift()\n",
    "test['2nd Previous Month SP']=test['Stock Adj Close'].shift(2)\n",
    "test['Previous Month SP']= test['Previous Month SP'].replace(np.NaN,0)\n",
    "test['2nd Previous Month SP']=test['2nd Previous Month SP'].replace(np.NaN,0)\n",
    "test"
   ]
  },
  {
   "cell_type": "code",
   "execution_count": 25,
   "metadata": {},
   "outputs": [],
   "source": [
    "#setting index as date values\n",
    "test.index = test['Date']\n",
    "\n",
    "#sorting\n",
    "data = test.sort_index(ascending=True, axis=0)\n",
    "\n",
    "#creating a separate dataset\n",
    "new_data = pd.DataFrame(index=data.index,columns=['VIX Close','Previous Month SP',\n",
    "                                                         '2nd Previous Month SP','Stock Adj Close'])\n",
    "\n",
    "for i in range(0,len(data)):\n",
    "   new_data['Stock Adj Close'][i] = data['Stock Adj Close'][i]\n",
    "   new_data['% positive words'][i] = data['% positive words'][i]\n",
    "   new_data['VIX Close'][i] = data['VIX Close'][i]\n",
    "   new_data['Previous Month SP'][i] = data['Previous Month SP'][i]\n",
    "   new_data['2nd Previous Month SP'][i] = data['2nd Previous Month SP'][i]\n",
    "\n",
    "# Seggregating date field as timestamp values are not accepted by the model\n",
    "\n",
    "new_data['Year']=pd.DatetimeIndex(data['Date']).year\n",
    "new_data['Month']=pd.DatetimeIndex(data['Date']).month\n",
    "new_data['Day']=pd.DatetimeIndex(data['Date']).day"
   ]
  },
  {
   "cell_type": "code",
   "execution_count": 26,
   "metadata": {},
   "outputs": [],
   "source": [
    "#split into train and validation\n",
    "train = new_data[:500]\n",
    "valid = new_data[500:]\n",
    "\n",
    "x_train = train.drop('Stock Adj Close', axis=1)\n",
    "y_train = train['Stock Adj Close']\n",
    "x_valid = valid.drop('Stock Adj Close', axis=1)\n",
    "y_valid = valid['Stock Adj Close']"
   ]
  },
  {
   "cell_type": "code",
   "execution_count": 31,
   "metadata": {},
   "outputs": [
    {
     "data": {
      "text/html": [
       "<div>\n",
       "<style scoped>\n",
       "    .dataframe tbody tr th:only-of-type {\n",
       "        vertical-align: middle;\n",
       "    }\n",
       "\n",
       "    .dataframe tbody tr th {\n",
       "        vertical-align: top;\n",
       "    }\n",
       "\n",
       "    .dataframe thead th {\n",
       "        text-align: right;\n",
       "    }\n",
       "</style>\n",
       "<table border=\"1\" class=\"dataframe\">\n",
       "  <thead>\n",
       "    <tr style=\"text-align: right;\">\n",
       "      <th></th>\n",
       "      <th>% positive words</th>\n",
       "      <th>VIX Close</th>\n",
       "      <th>Previous Month SP</th>\n",
       "      <th>2nd Previous Month SP</th>\n",
       "      <th>Stock Adj Close</th>\n",
       "      <th>Year</th>\n",
       "      <th>Month</th>\n",
       "      <th>Day</th>\n",
       "    </tr>\n",
       "    <tr>\n",
       "      <th>Date</th>\n",
       "      <th></th>\n",
       "      <th></th>\n",
       "      <th></th>\n",
       "      <th></th>\n",
       "      <th></th>\n",
       "      <th></th>\n",
       "      <th></th>\n",
       "      <th></th>\n",
       "    </tr>\n",
       "  </thead>\n",
       "  <tbody>\n",
       "    <tr>\n",
       "      <td>2014-04-03</td>\n",
       "      <td>0.0993789</td>\n",
       "      <td>13.37</td>\n",
       "      <td>387.83</td>\n",
       "      <td>383.54</td>\n",
       "      <td>333.62</td>\n",
       "      <td>2014</td>\n",
       "      <td>4</td>\n",
       "      <td>3</td>\n",
       "    </tr>\n",
       "    <tr>\n",
       "      <td>2014-04-07</td>\n",
       "      <td>0.0795455</td>\n",
       "      <td>15.57</td>\n",
       "      <td>333.62</td>\n",
       "      <td>387.83</td>\n",
       "      <td>317.76</td>\n",
       "      <td>2014</td>\n",
       "      <td>4</td>\n",
       "      <td>7</td>\n",
       "    </tr>\n",
       "    <tr>\n",
       "      <td>2014-05-02</td>\n",
       "      <td>0.1</td>\n",
       "      <td>12.91</td>\n",
       "      <td>310.05</td>\n",
       "      <td>296.93</td>\n",
       "      <td>308.01</td>\n",
       "      <td>2014</td>\n",
       "      <td>5</td>\n",
       "      <td>2</td>\n",
       "    </tr>\n",
       "    <tr>\n",
       "      <td>2014-05-05</td>\n",
       "      <td>0.142857</td>\n",
       "      <td>13.29</td>\n",
       "      <td>296.93</td>\n",
       "      <td>712.24</td>\n",
       "      <td>310.05</td>\n",
       "      <td>2014</td>\n",
       "      <td>5</td>\n",
       "      <td>5</td>\n",
       "    </tr>\n",
       "    <tr>\n",
       "      <td>2014-05-06</td>\n",
       "      <td>0.0659341</td>\n",
       "      <td>13.8</td>\n",
       "      <td>308.01</td>\n",
       "      <td>310.05</td>\n",
       "      <td>297.38</td>\n",
       "      <td>2014</td>\n",
       "      <td>5</td>\n",
       "      <td>6</td>\n",
       "    </tr>\n",
       "  </tbody>\n",
       "</table>\n",
       "</div>"
      ],
      "text/plain": [
       "           % positive words VIX Close Previous Month SP 2nd Previous Month SP  \\\n",
       "Date                                                                            \n",
       "2014-04-03        0.0993789     13.37            387.83                383.54   \n",
       "2014-04-07        0.0795455     15.57            333.62                387.83   \n",
       "2014-05-02              0.1     12.91            310.05                296.93   \n",
       "2014-05-05         0.142857     13.29            296.93                712.24   \n",
       "2014-05-06        0.0659341      13.8            308.01                310.05   \n",
       "\n",
       "           Stock Adj Close  Year  Month  Day  \n",
       "Date                                          \n",
       "2014-04-03          333.62  2014      4    3  \n",
       "2014-04-07          317.76  2014      4    7  \n",
       "2014-05-02          308.01  2014      5    2  \n",
       "2014-05-05          310.05  2014      5    5  \n",
       "2014-05-06          297.38  2014      5    6  "
      ]
     },
     "execution_count": 31,
     "metadata": {},
     "output_type": "execute_result"
    }
   ],
   "source": [
    "new_data.head()"
   ]
  },
  {
   "cell_type": "code",
   "execution_count": 32,
   "metadata": {},
   "outputs": [
    {
     "data": {
      "text/html": [
       "<div>\n",
       "<style scoped>\n",
       "    .dataframe tbody tr th:only-of-type {\n",
       "        vertical-align: middle;\n",
       "    }\n",
       "\n",
       "    .dataframe tbody tr th {\n",
       "        vertical-align: top;\n",
       "    }\n",
       "\n",
       "    .dataframe thead th {\n",
       "        text-align: right;\n",
       "    }\n",
       "</style>\n",
       "<table border=\"1\" class=\"dataframe\">\n",
       "  <thead>\n",
       "    <tr style=\"text-align: right;\">\n",
       "      <th></th>\n",
       "      <th>% positive words</th>\n",
       "      <th>VIX Close</th>\n",
       "      <th>Previous Month SP</th>\n",
       "      <th>2nd Previous Month SP</th>\n",
       "      <th>Year</th>\n",
       "      <th>Month</th>\n",
       "      <th>Day</th>\n",
       "    </tr>\n",
       "    <tr>\n",
       "      <th>Date</th>\n",
       "      <th></th>\n",
       "      <th></th>\n",
       "      <th></th>\n",
       "      <th></th>\n",
       "      <th></th>\n",
       "      <th></th>\n",
       "      <th></th>\n",
       "    </tr>\n",
       "  </thead>\n",
       "  <tbody>\n",
       "    <tr>\n",
       "      <td>2014-04-03</td>\n",
       "      <td>0.0993789</td>\n",
       "      <td>13.37</td>\n",
       "      <td>387.83</td>\n",
       "      <td>383.54</td>\n",
       "      <td>2014</td>\n",
       "      <td>4</td>\n",
       "      <td>3</td>\n",
       "    </tr>\n",
       "    <tr>\n",
       "      <td>2014-04-07</td>\n",
       "      <td>0.0795455</td>\n",
       "      <td>15.57</td>\n",
       "      <td>333.62</td>\n",
       "      <td>387.83</td>\n",
       "      <td>2014</td>\n",
       "      <td>4</td>\n",
       "      <td>7</td>\n",
       "    </tr>\n",
       "    <tr>\n",
       "      <td>2014-05-02</td>\n",
       "      <td>0.1</td>\n",
       "      <td>12.91</td>\n",
       "      <td>310.05</td>\n",
       "      <td>296.93</td>\n",
       "      <td>2014</td>\n",
       "      <td>5</td>\n",
       "      <td>2</td>\n",
       "    </tr>\n",
       "    <tr>\n",
       "      <td>2014-05-05</td>\n",
       "      <td>0.142857</td>\n",
       "      <td>13.29</td>\n",
       "      <td>296.93</td>\n",
       "      <td>712.24</td>\n",
       "      <td>2014</td>\n",
       "      <td>5</td>\n",
       "      <td>5</td>\n",
       "    </tr>\n",
       "    <tr>\n",
       "      <td>2014-05-06</td>\n",
       "      <td>0.0659341</td>\n",
       "      <td>13.8</td>\n",
       "      <td>308.01</td>\n",
       "      <td>310.05</td>\n",
       "      <td>2014</td>\n",
       "      <td>5</td>\n",
       "      <td>6</td>\n",
       "    </tr>\n",
       "  </tbody>\n",
       "</table>\n",
       "</div>"
      ],
      "text/plain": [
       "           % positive words VIX Close Previous Month SP 2nd Previous Month SP  \\\n",
       "Date                                                                            \n",
       "2014-04-03        0.0993789     13.37            387.83                383.54   \n",
       "2014-04-07        0.0795455     15.57            333.62                387.83   \n",
       "2014-05-02              0.1     12.91            310.05                296.93   \n",
       "2014-05-05         0.142857     13.29            296.93                712.24   \n",
       "2014-05-06        0.0659341      13.8            308.01                310.05   \n",
       "\n",
       "            Year  Month  Day  \n",
       "Date                          \n",
       "2014-04-03  2014      4    3  \n",
       "2014-04-07  2014      4    7  \n",
       "2014-05-02  2014      5    2  \n",
       "2014-05-05  2014      5    5  \n",
       "2014-05-06  2014      5    6  "
      ]
     },
     "execution_count": 32,
     "metadata": {},
     "output_type": "execute_result"
    }
   ],
   "source": [
    "x_train.head()"
   ]
  },
  {
   "cell_type": "code",
   "execution_count": 27,
   "metadata": {},
   "outputs": [
    {
     "data": {
      "text/plain": [
       "LinearRegression(copy_X=True, fit_intercept=True, n_jobs=None,\n",
       "         normalize=False)"
      ]
     },
     "execution_count": 27,
     "metadata": {},
     "output_type": "execute_result"
    }
   ],
   "source": [
    "#implement linear regression\n",
    "\n",
    "from sklearn.linear_model import LinearRegression\n",
    "model = LinearRegression()\n",
    "model.fit(x_train,y_train)"
   ]
  },
  {
   "cell_type": "markdown",
   "metadata": {},
   "source": [
    "model.summary()"
   ]
  },
  {
   "cell_type": "code",
   "execution_count": 29,
   "metadata": {},
   "outputs": [
    {
     "name": "stdout",
     "output_type": "stream",
     "text": [
      "0.941408545560231\n",
      "[-2.33963430e+00 -1.35473724e+00  2.45646053e-01  3.13173578e-03\n",
      "  1.73461441e+02  1.89927637e+01  4.96586516e-01]\n",
      "-349279.3385012643\n"
     ]
    }
   ],
   "source": [
    "print(model.score(x_train,y_train))\n",
    "\n",
    "print(model.coef_)\n",
    "\n",
    "print(model.intercept_)\n"
   ]
  },
  {
   "cell_type": "code",
   "execution_count": 28,
   "metadata": {},
   "outputs": [],
   "source": [
    "#make predictions\n",
    "y_pred = model.predict(x_valid)"
   ]
  },
  {
   "cell_type": "code",
   "execution_count": 29,
   "metadata": {},
   "outputs": [
    {
     "name": "stdout",
     "output_type": "stream",
     "text": [
      "Root Mean Square Error 52.20941291189253\n",
      "Mean Squared Error:  2725.8227966044888\n"
     ]
    }
   ],
   "source": [
    "#evaluating model performance\n",
    "\n",
    "rms=np.sqrt(np.mean(np.power((np.array(y_valid)-np.array(y_pred)),2)))\n",
    "print(\"Root Mean Square Error\",rms)\n",
    "mse=mean_squared_error(y_valid, y_pred, multioutput='raw_values')\n",
    "print(\"Mean Squared Error: \",mse[0])"
   ]
  },
  {
   "cell_type": "markdown",
   "metadata": {},
   "source": [
    "Rsquare:\n",
    "R2 score= 1 — (Error from Linear Regression Model/Simple average model).\n",
    "Best possible score is 1.0 and it can be negative "
   ]
  },
  {
   "cell_type": "code",
   "execution_count": 30,
   "metadata": {},
   "outputs": [
    {
     "name": "stdout",
     "output_type": "stream",
     "text": [
      "Rsquare value:  0.6026868641803811\n"
     ]
    }
   ],
   "source": [
    "r2=r2_score(y_valid, y_pred, multioutput='variance_weighted')\n",
    "print(\"Rsquare value: \",r2)"
   ]
  },
  {
   "cell_type": "code",
   "execution_count": 31,
   "metadata": {},
   "outputs": [
    {
     "name": "stderr",
     "output_type": "stream",
     "text": [
      "C:\\Users\\vkodati\\AppData\\Local\\Continuum\\anaconda3\\lib\\site-packages\\ipykernel_launcher.py:3: SettingWithCopyWarning: \n",
      "A value is trying to be set on a copy of a slice from a DataFrame.\n",
      "Try using .loc[row_indexer,col_indexer] = value instead\n",
      "\n",
      "See the caveats in the documentation: http://pandas.pydata.org/pandas-docs/stable/user_guide/indexing.html#returning-a-view-versus-a-copy\n",
      "  This is separate from the ipykernel package so we can avoid doing imports until\n",
      "C:\\Users\\vkodati\\AppData\\Local\\Continuum\\anaconda3\\lib\\site-packages\\ipykernel_launcher.py:4: SettingWithCopyWarning: \n",
      "A value is trying to be set on a copy of a slice from a DataFrame.\n",
      "Try using .loc[row_indexer,col_indexer] = value instead\n",
      "\n",
      "See the caveats in the documentation: http://pandas.pydata.org/pandas-docs/stable/user_guide/indexing.html#returning-a-view-versus-a-copy\n",
      "  after removing the cwd from sys.path.\n",
      "C:\\Users\\vkodati\\AppData\\Local\\Continuum\\anaconda3\\lib\\site-packages\\pandas\\plotting\\_matplotlib\\converter.py:103: FutureWarning: Using an implicitly registered datetime converter for a matplotlib plotting method. The converter was registered by pandas on import. Future versions of pandas will require you to explicitly register matplotlib converters.\n",
      "\n",
      "To register the converters:\n",
      "\t>>> from pandas.plotting import register_matplotlib_converters\n",
      "\t>>> register_matplotlib_converters()\n",
      "  warnings.warn(msg, FutureWarning)\n"
     ]
    },
    {
     "data": {
      "image/png": "[encoded data removed]",
      "text/plain": [
       "<Figure size 432x288 with 1 Axes>"
      ]
     },
     "metadata": {
      "needs_background": "light"
     },
     "output_type": "display_data"
    }
   ],
   "source": [
    "#plotting the results\n",
    "\n",
    "valid['Predictions'] = 0\n",
    "valid['Predictions'] = y_pred\n",
    "\n",
    "valid.index = new_data[500:].index\n",
    "train.index = new_data[:500].index\n",
    "\n",
    "Train_StockPrice=train['Stock Adj Close']\n",
    "Validation_StockPrice=valid['Stock Adj Close']\n",
    "Predicted_StockPrice=valid['Predictions']\n",
    "\n",
    "plt.plot(Train_StockPrice)\n",
    "plt.plot(Validation_StockPrice)\n",
    "plt.plot(Predicted_StockPrice)\n",
    "\n",
    "plt.xticks(rotation=90)\n",
    "plt.legend(['Train_StockPrice','Validation_StockPrice','Predicted_StockPrice'], loc='upper left')\n",
    "plt.xlabel('Years')\n",
    "plt.ylabel('Stock Price')\n",
    "plt.title('Stock Price variation over the years')\n",
    "plt.show()\n"
   ]
  }
 ],
 "metadata": {
  "kernelspec": {
   "display_name": "Python 3",
   "language": "python",
   "name": "python3"
  },
  "language_info": {
   "codemirror_mode": {
    "name": "ipython",
    "version": 3
   },
   "file_extension": ".py",
   "mimetype": "text/x-python",
   "name": "python",
   "nbconvert_exporter": "python",
   "pygments_lexer": "ipython3",
   "version": "3.7.4"
  }
 },
 "nbformat": 4,
 "nbformat_minor": 2
}
